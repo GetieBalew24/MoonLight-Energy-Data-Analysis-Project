{
 "cells": [
  {
   "cell_type": "code",
   "execution_count": null,
   "metadata": {},
   "outputs": [],
   "source": [
    "import sys\n",
    "import os\n",
    "# Get the path of the project directory\n",
    "project_dir = os.path.abspath(os.path.join(os.getcwd(), '..'))\n",
    "# Add the src directory to the Python path\n",
    "src_dir = os.path.join(project_dir, 'src')\n",
    "sys.path.append(src_dir)\n",
    "# Import necessary functions from the eda.py script\n",
    "from eda import *\n",
    "# Load the data\n",
    "df = load_data('../data/togo-dapaong_qc.csv')\n",
    "# Perform Explore data Analysis\n",
    "summary_stats = summary_statistics(df)\n",
    "print(summary_stats)\n",
    "\n",
    "missing_values, negative_values = data_quality_check(df)\n",
    "print(\"Missing Values:\\n\", missing_values)\n",
    "print(\"Negative Values:\\n\", negative_values)\n",
    "\n",
    "time_series_analysis(df)\n",
    "correlation_analysis(df)\n",
    "wind_analysis(df)\n",
    "temperature_analysis(df)\n",
    "histograms(df)\n",
    "box_plots(df)\n",
    "scatter_plots(df)\n",
    "\n",
    "# Clean the data\n",
    "df_cleaned = data_cleaning(df)"
   ]
  }
 ],
 "metadata": {
  "language_info": {
   "name": "python"
  }
 },
 "nbformat": 4,
 "nbformat_minor": 2
}
